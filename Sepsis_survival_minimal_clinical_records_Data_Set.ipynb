{
  "nbformat": 4,
  "nbformat_minor": 0,
  "metadata": {
    "colab": {
      "provenance": [],
      "authorship_tag": "ABX9TyMUY6pOAnkJFV5XWbF+tqTV",
      "include_colab_link": true
    },
    "kernelspec": {
      "name": "python3",
      "display_name": "Python 3"
    },
    "language_info": {
      "name": "python"
    }
  },
  "cells": [
    {
      "cell_type": "markdown",
      "metadata": {
        "id": "view-in-github",
        "colab_type": "text"
      },
      "source": [
        "<a href=\"https://colab.research.google.com/github/PosgradoMNA/actividades-del-projecto-cad_kbcm_jfl/blob/main/Sepsis_survival_minimal_clinical_records_Data_Set.ipynb\" target=\"_parent\"><img src=\"https://colab.research.google.com/assets/colab-badge.svg\" alt=\"Open In Colab\"/></a>"
      ]
    },
    {
      "cell_type": "markdown",
      "source": [
        "El conjunto de datos tiene el nombre de Sepsis survival minimal clinical records Data Set.\n",
        "Fue creado por Davide Chicco y donado al repositorio de aprendizaje automático Irvine de la Universidad de California.\n",
        "Se puede descargar en la siguiente liga: https://archive.ics.uci.edu/ml/datasets/Sepsis+survival+minimal+clinical+records# \n",
        "\n",
        "El set de datos contiene los siguientes atributos:\n",
        "\n",
        "1.   Edad en años\n",
        "2.   Género en binario\n",
        "3.   Número de episodio\n",
        "4.   Resultado de supervivencia en booleano\n",
        "\n",
        "¿Cuáles preguntas de investigación se podrían responder con estos datos?\n",
        "\n",
        "1.   ¿Qué paciente requiere atención urgencia por el riesgo de muerte derivado de una infección por sepsis?\n",
        "2.   ¿Cuál es la probabilidad de supervicencia de un paciente con una infección por sepsis?\n",
        "3.   ¿El paciente corre riesgo de muerte por sepsis y es candidato a antibióticos?\n",
        "4.   ¿Es más probable que una persona de género femenino o masculino sobreviva a una infección por sepsis?\n",
        "5.   ¿En qué edad aumenta el riesgo de muerte por una infección por sepsis?\n",
        "6.   ¿Existe una correlación entre el género y la probabilidad de supervivencia a una infección por sepsis?\n",
        "7.   ¿Qué factores identifican que alguien no sobreviva a una infección por sepsis?\n",
        "8.   ¿El riesgo de muerte por sepsis puede ser calculado o es un valor aleatorio?\n",
        "\n",
        "¿Qué actor estaría interesado en las preguntas mencionadas que identificó ?\n",
        "\n",
        "*   Hospitales privados o públicos\n",
        "*   Hospitales en áreas rurales con recursos limitados\n",
        "*   Aseguradoras\n",
        "*   Laboratorios médicos para desarrollar tratamientos para infecciones por sepsis.\n",
        "\n",
        "\n",
        "\n",
        "\n",
        "\n"
      ],
      "metadata": {
        "id": "hV-gsmHtWCKW"
      }
    }
  ]
}