{
  "nbformat": 4,
  "nbformat_minor": 0,
  "metadata": {
    "colab": {
      "provenance": [],
      "include_colab_link": true
    },
    "kernelspec": {
      "name": "python3",
      "display_name": "Python 3"
    },
    "language_info": {
      "name": "python"
    }
  },
  "cells": [
    {
      "cell_type": "markdown",
      "metadata": {
        "id": "view-in-github",
        "colab_type": "text"
      },
      "source": [
        "<a href=\"https://colab.research.google.com/github/PosgradoMNA/actividades-del-projecto-cad_kbcm_jfl/blob/main/COVID_19_Case_Surveillance.ipynb\" target=\"_parent\"><img src=\"https://colab.research.google.com/assets/colab-badge.svg\" alt=\"Open In Colab\"/></a>"
      ]
    },
    {
      "cell_type": "markdown",
      "source": [
        "El conjunto de datos tiene el nombre de COVID 19 Case Surveillance.\n",
        "Fue creado por la CDC (Center for Disease Control and Prevention).\n",
        "Se puede descargar en la siguiente liga: https://data.cdc.gov/Case-Surveillance/COVID-19-Case-Surveillance-Public-Use-Data-with-Ge/n8mc-b4w4\n",
        "\n",
        "El set de datos contiene los siguientes atributos:\n",
        "\n",
        "1.   Mes del dato clínico Formato YYYY-MM - String\n",
        "2.   Estado de Residencia Formato 2 caracteres - String\n",
        "3.   Código FIPS del estado Formato 2 caracteres - String\n",
        "4.   Condado de residencia Formato texto - String\n",
        "5.   Código FIPS del condado Formato 5 caracteres - String\n",
        "6.   Grupo de edad - String\n",
        "7.   Género Formato caracteres - String\n",
        "8.   Raza Formato caracteres - String\n",
        "9.   Etnicidad Formato caracteres - String\n",
        "10.  Semanas entre la primer fecha y la primer recolección de especímen positivo Formato integer \n",
        "11.  Semanas entre la primer fecha y la fecha de los síntomas Formato integer\n",
        "12.  ¿En qué proceso se identificó? Formato caracter - String\n",
        "13.  ¿Tuvo el paciente contacto en los 14 días previos a exposiciones conocidad, tales como: viajes nacionales, viajes internacionales, viaje en crusero o bote como pasajero o tripulación, lugar de trabajo, aeropuerto/avión, lugar de personas adultas (asilo, hospital, etc.), escuela/universidad/guardería, centro de reinserción social, evento de comunidad/ evento masivo/ animal con o sospecha de COVID-19, otra exposición o contacto con un caso conocido de COVID-19? Formato caracter - String\n",
        "14.  ¿Cuál es el estatus de la persona? Formato caracter - String\n",
        "15.  ¿Cuáles son los síntomas de la persona? Formato Caracter - String\n",
        "16.  ¿El paciente fue hospitalizado? Formato Caracter - String\n",
        "17.  ¿El paciente fue admitido a Cuidados Intensivos? Formato Caracter - String\n",
        "18.  ¿Murió el paciente a consecuencia de esta enfermedad? Formato Caracter - String\n",
        "19. ¿Tiene el paciente alguna condición médica de riesgo o comportamiento: Diabetes mellitus, hipertensión, obesidad severa, enfermedad cardiovascular, otras enfermedades crónicas, unmunodeprimido, condición autoinmune, fumador, abuso de sustancias, alguna discapacidad, embarazo, otro? Formato - String\n",
        "\n",
        "¿Cuáles preguntas de investigación se podrían responder con estos datos?\n",
        "\n",
        "1.   ¿Cuál es la probabilidad de muerte por COVID-19?\n",
        "2.   ¿Cuáles son los síntomas más recurrentes en COVID19?\n",
        "3.   ¿Cuáles son los factores de riesgo más predominantes para el contagio del COVID-19?\n",
        "4.   ¿Cuáles zonas tienen mayor nivel de contagio rurales o urbanas?\n",
        "5.   ¿Cuáles zonas tienen mayor tasa de mortalidad?\n",
        "6.   ¿Existe una correlación entre el género y la probabilidad de supervivencia a una infección por COVID-19?\n",
        "7.   ¿Qué factores te hacen más propenso a requerir ingresar a cuidados intensivos?\n",
        "8.   ¿Cuál es el estado del paciente al tener alguna condicion medica existente?\n",
        "9.   ¿Cuál es la relación de la edad con la hospitalización?\n",
        "10.  ¿Cuál es relación entre las fechas de infección y hospitalización?\n",
        "11.  ¿Cuál es la relacion de infeccion de extranjeros y residentes?\n",
        "\n",
        "¿Qué actor estaría interesado en las preguntas mencionadas que identificó ?\n",
        "\n",
        "*   Hospitales privados o públicos\n",
        "*   Recursos Humanos en una empresa\n",
        "*   Aseguradoras\n",
        "*   Escuelas\n",
        "*   Atencion al cliente\n",
        "*   Optimización de ventas en medicamentos\n",
        "\n",
        "\n",
        "\n",
        "\n",
        "\n",
        "\n"
      ],
      "metadata": {
        "id": "hV-gsmHtWCKW"
      }
    }
  ]
}