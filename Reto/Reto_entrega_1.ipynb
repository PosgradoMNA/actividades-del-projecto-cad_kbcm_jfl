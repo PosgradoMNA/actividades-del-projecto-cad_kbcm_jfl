{
  "cells": [
    {
      "cell_type": "markdown",
      "metadata": {
        "id": "view-in-github",
        "colab_type": "text"
      },
      "source": [
        "<a href=\"https://colab.research.google.com/github/PosgradoMNA/actividades-del-projecto-cad_kbcm_jfl/blob/main/Reto_entrega_1.ipynb\" target=\"_parent\"><img src=\"https://colab.research.google.com/assets/colab-badge.svg\" alt=\"Open In Colab\"/></a>"
      ]
    },
    {
      "cell_type": "markdown",
      "id": "13bac2c8",
      "metadata": {
        "id": "13bac2c8"
      },
      "source": [
        "# **Instituto Tecnológico de Estudios Superiores de Monterrey**\n",
        "\n",
        "**Maestría en Inteligencia Artificial Aplicada**\n",
        "\n",
        "**Ciencia y Analítica de datos**\n",
        "\n",
        "**Nombre del trabajo:** Reto -> Entrega 1: Limpieza, análisis, visualización y kmeans.\n",
        "\n",
        "**Nombre del maestro:** María de la Paz Rico Fernández\n",
        "\n",
        "**Nombre de los estudiantes:** Kevin Brandon Cruz Jorge Fernández Lara\n",
        "\n",
        "**Matrículas:** A01794176 A01793062\n",
        "\n",
        "**Fecha de entrega:** 16 de noviembre de 2022"
      ]
    },
    {
      "cell_type": "markdown",
      "id": "4c0a622a",
      "metadata": {
        "id": "4c0a622a"
      },
      "source": [
        "**Objetivo:** Implementar conocimientos adquiridos a lo largo del curso en el desarrollo de un proyecto con datos reales.\n",
        "\n",
        "Elige una de las bases de datos, ya sea la de las aguas superficiales o la de las aguas subterráneas.\n",
        "\n",
        "Trataremos en este caso las aguas superficiales."
      ]
    },
    {
      "cell_type": "code",
      "execution_count": null,
      "id": "2544e05e",
      "metadata": {
        "id": "2544e05e",
        "outputId": "d698bb54-d056-484e-9a1f-41b3fcb9af3b"
      },
      "outputs": [
        {
          "name": "stdout",
          "output_type": "stream",
          "text": [
            "Collecting qeds\n",
            "  Using cached qeds-0.7.0.tar.gz (24 kB)\n",
            "Collecting fiona\n",
            "  Using cached Fiona-1.8.22-cp39-cp39-win_amd64.whl (21.7 MB)\n",
            "Collecting geopandas\n",
            "  Using cached geopandas-0.12.1-py3-none-any.whl (1.1 MB)\n",
            "Collecting xgboost\n",
            "  Downloading xgboost-1.7.1-py3-none-win_amd64.whl (89.1 MB)\n",
            "Requirement already satisfied: gensim in c:\\users\\ferna\\anaconda3\\lib\\site-packages (4.1.2)\n",
            "Collecting folium\n",
            "  Downloading folium-0.13.0-py2.py3-none-any.whl (96 kB)\n",
            "Collecting pyLDAvis\n",
            "  Downloading pyLDAvis-3.3.1.tar.gz (1.7 MB)\n",
            "  Installing build dependencies: started\n",
            "  Installing build dependencies: finished with status 'done'\n",
            "  Getting requirements to build wheel: started\n",
            "  Getting requirements to build wheel: finished with status 'done'\n",
            "  Installing backend dependencies: started\n",
            "  Installing backend dependencies: finished with status 'done'\n",
            "    Preparing wheel metadata: started\n",
            "    Preparing wheel metadata: finished with status 'done'\n",
            "Collecting descartes\n",
            "  Downloading descartes-1.1.0-py3-none-any.whl (5.8 kB)\n",
            "Requirement already satisfied: pandas in c:\\users\\ferna\\anaconda3\\lib\\site-packages (from qeds) (1.4.2)\n",
            "Requirement already satisfied: requests in c:\\users\\ferna\\anaconda3\\lib\\site-packages (from qeds) (2.27.1)\n",
            "Collecting quandl\n",
            "  Downloading Quandl-3.7.0-py2.py3-none-any.whl (26 kB)\n",
            "Requirement already satisfied: scipy in c:\\users\\ferna\\anaconda3\\lib\\site-packages (from qeds) (1.7.3)\n",
            "Requirement already satisfied: numpy in c:\\users\\ferna\\anaconda3\\lib\\site-packages (from qeds) (1.21.5)\n",
            "Collecting quantecon\n",
            "  Downloading quantecon-0.5.3-py3-none-any.whl (179 kB)\n",
            "Requirement already satisfied: matplotlib in c:\\users\\ferna\\anaconda3\\lib\\site-packages (from qeds) (3.5.1)\n",
            "Collecting pyarrow\n",
            "  Downloading pyarrow-10.0.0-cp39-cp39-win_amd64.whl (20.0 MB)\n",
            "Requirement already satisfied: openpyxl in c:\\users\\ferna\\anaconda3\\lib\\site-packages (from qeds) (3.0.9)\n",
            "Requirement already satisfied: plotly in c:\\users\\ferna\\anaconda3\\lib\\site-packages (from qeds) (5.6.0)\n",
            "Collecting pandas_datareader\n",
            "  Downloading pandas_datareader-0.10.0-py3-none-any.whl (109 kB)\n",
            "Requirement already satisfied: scikit-learn in c:\\users\\ferna\\anaconda3\\lib\\site-packages (from qeds) (1.1.2)\n",
            "Requirement already satisfied: seaborn in c:\\users\\ferna\\anaconda3\\lib\\site-packages (from qeds) (0.11.2)\n",
            "Requirement already satisfied: statsmodels in c:\\users\\ferna\\anaconda3\\lib\\site-packages (from qeds) (0.13.2)\n",
            "Requirement already satisfied: attrs>=17 in c:\\users\\ferna\\anaconda3\\lib\\site-packages (from fiona) (21.4.0)\n",
            "Collecting cligj>=0.5\n",
            "  Downloading cligj-0.7.2-py3-none-any.whl (7.1 kB)\n",
            "Requirement already satisfied: six>=1.7 in c:\\users\\ferna\\anaconda3\\lib\\site-packages (from fiona) (1.16.0)\n",
            "Requirement already satisfied: click>=4.0 in c:\\users\\ferna\\anaconda3\\lib\\site-packages (from fiona) (8.0.4)\n",
            "Collecting munch\n",
            "  Downloading munch-2.5.0-py2.py3-none-any.whl (10 kB)\n",
            "Requirement already satisfied: certifi in c:\\users\\ferna\\anaconda3\\lib\\site-packages (from fiona) (2021.10.8)\n",
            "Collecting click-plugins>=1.0\n",
            "  Downloading click_plugins-1.1.1-py2.py3-none-any.whl (7.5 kB)\n",
            "Requirement already satisfied: setuptools in c:\\users\\ferna\\anaconda3\\lib\\site-packages (from fiona) (61.2.0)\n",
            "Requirement already satisfied: packaging in c:\\users\\ferna\\anaconda3\\lib\\site-packages (from geopandas) (21.3)\n",
            "Collecting shapely>=1.7\n",
            "  Downloading Shapely-1.8.5.post1-cp39-cp39-win_amd64.whl (1.3 MB)\n",
            "Collecting pyproj>=2.6.1.post1\n",
            "  Downloading pyproj-3.4.0-cp39-cp39-win_amd64.whl (4.8 MB)\n",
            "Requirement already satisfied: smart-open>=1.8.1 in c:\\users\\ferna\\anaconda3\\lib\\site-packages (from gensim) (5.1.0)\n",
            "Collecting branca>=0.3.0\n",
            "  Downloading branca-0.6.0-py3-none-any.whl (24 kB)\n",
            "Requirement already satisfied: jinja2>=2.9 in c:\\users\\ferna\\anaconda3\\lib\\site-packages (from folium) (3.0.3)\n",
            "Collecting funcy\n",
            "  Downloading funcy-1.17-py2.py3-none-any.whl (33 kB)\n",
            "Collecting sklearn\n",
            "  Downloading sklearn-0.0.post1.tar.gz (3.6 kB)\n",
            "Requirement already satisfied: joblib in c:\\users\\ferna\\anaconda3\\lib\\site-packages (from pyLDAvis) (1.1.0)\n",
            "Requirement already satisfied: future in c:\\users\\ferna\\anaconda3\\lib\\site-packages (from pyLDAvis) (0.18.2)\n",
            "Requirement already satisfied: numexpr in c:\\users\\ferna\\anaconda3\\lib\\site-packages (from pyLDAvis) (2.8.1)\n",
            "Requirement already satisfied: colorama in c:\\users\\ferna\\anaconda3\\lib\\site-packages (from click>=4.0->fiona) (0.4.4)\n",
            "Requirement already satisfied: MarkupSafe>=2.0 in c:\\users\\ferna\\anaconda3\\lib\\site-packages (from jinja2>=2.9->folium) (2.0.1)\n",
            "Requirement already satisfied: pytz>=2020.1 in c:\\users\\ferna\\anaconda3\\lib\\site-packages (from pandas->qeds) (2021.3)\n",
            "Requirement already satisfied: python-dateutil>=2.8.1 in c:\\users\\ferna\\anaconda3\\lib\\site-packages (from pandas->qeds) (2.8.2)\n",
            "Requirement already satisfied: cycler>=0.10 in c:\\users\\ferna\\anaconda3\\lib\\site-packages (from matplotlib->qeds) (0.11.0)\n",
            "Requirement already satisfied: pillow>=6.2.0 in c:\\users\\ferna\\anaconda3\\lib\\site-packages (from matplotlib->qeds) (9.0.1)\n",
            "Requirement already satisfied: kiwisolver>=1.0.1 in c:\\users\\ferna\\anaconda3\\lib\\site-packages (from matplotlib->qeds) (1.3.2)\n",
            "Requirement already satisfied: pyparsing>=2.2.1 in c:\\users\\ferna\\anaconda3\\lib\\site-packages (from matplotlib->qeds) (3.0.4)\n",
            "Requirement already satisfied: fonttools>=4.22.0 in c:\\users\\ferna\\anaconda3\\lib\\site-packages (from matplotlib->qeds) (4.25.0)\n",
            "Requirement already satisfied: et-xmlfile in c:\\users\\ferna\\anaconda3\\lib\\site-packages (from openpyxl->qeds) (1.1.0)\n",
            "Requirement already satisfied: lxml in c:\\users\\ferna\\anaconda3\\lib\\site-packages (from pandas_datareader->qeds) (4.8.0)\n",
            "Requirement already satisfied: idna<4,>=2.5 in c:\\users\\ferna\\anaconda3\\lib\\site-packages (from requests->qeds) (3.3)\n",
            "Requirement already satisfied: charset-normalizer~=2.0.0 in c:\\users\\ferna\\anaconda3\\lib\\site-packages (from requests->qeds) (2.0.4)\n",
            "Requirement already satisfied: urllib3<1.27,>=1.21.1 in c:\\users\\ferna\\anaconda3\\lib\\site-packages (from requests->qeds) (1.26.9)\n",
            "Requirement already satisfied: tenacity>=6.2.0 in c:\\users\\ferna\\anaconda3\\lib\\site-packages (from plotly->qeds) (8.0.1)\n",
            "Collecting more-itertools\n",
            "  Downloading more_itertools-9.0.0-py3-none-any.whl (52 kB)\n",
            "Requirement already satisfied: inflection>=0.3.1 in c:\\users\\ferna\\anaconda3\\lib\\site-packages (from quandl->qeds) (0.5.1)\n",
            "Requirement already satisfied: numba in c:\\users\\ferna\\anaconda3\\lib\\site-packages (from quantecon->qeds) (0.55.1)\n",
            "Requirement already satisfied: sympy in c:\\users\\ferna\\anaconda3\\lib\\site-packages (from quantecon->qeds) (1.10.1)\n",
            "Requirement already satisfied: llvmlite<0.39,>=0.38.0rc1 in c:\\users\\ferna\\anaconda3\\lib\\site-packages (from numba->quantecon->qeds) (0.38.0)\n",
            "Requirement already satisfied: threadpoolctl>=2.0.0 in c:\\users\\ferna\\anaconda3\\lib\\site-packages (from scikit-learn->qeds) (2.2.0)\n",
            "Requirement already satisfied: patsy>=0.5.2 in c:\\users\\ferna\\anaconda3\\lib\\site-packages (from statsmodels->qeds) (0.5.2)\n",
            "Requirement already satisfied: mpmath>=0.19 in c:\\users\\ferna\\anaconda3\\lib\\site-packages (from sympy->quantecon->qeds) (1.2.1)\n",
            "Building wheels for collected packages: qeds, pyLDAvis, sklearn\n",
            "  Building wheel for qeds (setup.py): started\n",
            "  Building wheel for qeds (setup.py): finished with status 'done'\n",
            "  Created wheel for qeds: filename=qeds-0.7.0-py3-none-any.whl size=27813 sha256=5f1eaff8bda1de527099973d826ec97ea58a18c4c976131025b108c95372704d\n",
            "  Stored in directory: c:\\users\\ferna\\appdata\\local\\pip\\cache\\wheels\\38\\56\\3b\\fba4c3ff6121d0bbeddfabc62ce65fb8478f24b637b5224f77\n",
            "  Building wheel for pyLDAvis (PEP 517): started\n",
            "  Building wheel for pyLDAvis (PEP 517): finished with status 'done'\n",
            "  Created wheel for pyLDAvis: filename=pyLDAvis-3.3.1-py2.py3-none-any.whl size=136904 sha256=9255329d95a4b20c42a51e4464d2e18ed5053739d18198cd04667b0ce280404e\n",
            "  Stored in directory: c:\\users\\ferna\\appdata\\local\\pip\\cache\\wheels\\57\\a4\\86\\d10c6c2e0bf149fbc0afb0aa5a6528ac35b30a133a0270c477\n",
            "  Building wheel for sklearn (setup.py): started\n",
            "  Building wheel for sklearn (setup.py): finished with status 'done'\n",
            "  Created wheel for sklearn: filename=sklearn-0.0.post1-py3-none-any.whl size=2959 sha256=1042cecb06cbf624bc79db42033da6560cde47b9689bddbe23c15ae6d1caee86\n",
            "  Stored in directory: c:\\users\\ferna\\appdata\\local\\pip\\cache\\wheels\\f8\\e0\\3d\\9d0c2020c44a519b9f02ab4fa6d2a4a996c98d79ab2f569fa1\n",
            "Successfully built qeds pyLDAvis sklearn\n",
            "Installing collected packages: munch, more-itertools, cligj, click-plugins, sklearn, shapely, quantecon, quandl, pyproj, pyarrow, pandas-datareader, funcy, fiona, branca, xgboost, qeds, pyLDAvis, geopandas, folium, descartes\n",
            "Successfully installed branca-0.6.0 click-plugins-1.1.1 cligj-0.7.2 descartes-1.1.0 fiona-1.8.22 folium-0.13.0 funcy-1.17 geopandas-0.12.1 more-itertools-9.0.0 munch-2.5.0 pandas-datareader-0.10.0 pyLDAvis-3.3.1 pyarrow-10.0.0 pyproj-3.4.0 qeds-0.7.0 quandl-3.7.0 quantecon-0.5.3 shapely-1.8.5.post1 sklearn-0.0.post1 xgboost-1.7.1\n"
          ]
        }
      ],
      "source": [
        "\n",
        "!pip install qeds fiona geopandas xgboost gensim folium pyLDAvis descartes"
      ]
    },
    {
      "cell_type": "code",
      "execution_count": null,
      "id": "9c487137",
      "metadata": {
        "id": "9c487137"
      },
      "outputs": [],
      "source": [
        "import pandas as pd\n",
        "import matplotlib.pyplot as plt\n",
        "from pandas.io.parsers.readers import read_csv"
      ]
    },
    {
      "cell_type": "code",
      "execution_count": null,
      "id": "21471c5c",
      "metadata": {
        "id": "21471c5c",
        "outputId": "bd55e6f6-b88d-4b80-b8fe-45684035451b"
      },
      "outputs": [
        {
          "ename": "ParserError",
          "evalue": "Error tokenizing data. C error: Expected 1 fields in line 28, saw 367\n",
          "output_type": "error",
          "traceback": [
            "\u001b[1;31m---------------------------------------------------------------------------\u001b[0m",
            "\u001b[1;31mParserError\u001b[0m                               Traceback (most recent call last)",
            "\u001b[1;32m~\\AppData\\Local\\Temp\\ipykernel_12400\\1054126960.py\u001b[0m in \u001b[0;36m<cell line: 2>\u001b[1;34m()\u001b[0m\n\u001b[0;32m      1\u001b[0m \u001b[0murl\u001b[0m \u001b[1;33m=\u001b[0m \u001b[1;34m'https://github.com/PosgradoMNA/actividades-del-projecto-cad_kbcm_jfl/blob/main/Reto/Datos_de_calidad_del_agua_de_sitios_de_monitoreo_de_aguas_superficiales_2020.csv'\u001b[0m\u001b[1;33m\u001b[0m\u001b[1;33m\u001b[0m\u001b[0m\n\u001b[1;32m----> 2\u001b[1;33m \u001b[0mdf\u001b[0m \u001b[1;33m=\u001b[0m \u001b[0mpd\u001b[0m\u001b[1;33m.\u001b[0m\u001b[0mread_csv\u001b[0m\u001b[1;33m(\u001b[0m\u001b[0murl\u001b[0m\u001b[1;33m,\u001b[0m \u001b[0msep\u001b[0m\u001b[1;33m=\u001b[0m\u001b[1;34m','\u001b[0m\u001b[1;33m)\u001b[0m\u001b[1;33m\u001b[0m\u001b[1;33m\u001b[0m\u001b[0m\n\u001b[0m",
            "\u001b[1;32m~\\anaconda3\\lib\\site-packages\\pandas\\util\\_decorators.py\u001b[0m in \u001b[0;36mwrapper\u001b[1;34m(*args, **kwargs)\u001b[0m\n\u001b[0;32m    309\u001b[0m                     \u001b[0mstacklevel\u001b[0m\u001b[1;33m=\u001b[0m\u001b[0mstacklevel\u001b[0m\u001b[1;33m,\u001b[0m\u001b[1;33m\u001b[0m\u001b[1;33m\u001b[0m\u001b[0m\n\u001b[0;32m    310\u001b[0m                 )\n\u001b[1;32m--> 311\u001b[1;33m             \u001b[1;32mreturn\u001b[0m \u001b[0mfunc\u001b[0m\u001b[1;33m(\u001b[0m\u001b[1;33m*\u001b[0m\u001b[0margs\u001b[0m\u001b[1;33m,\u001b[0m \u001b[1;33m**\u001b[0m\u001b[0mkwargs\u001b[0m\u001b[1;33m)\u001b[0m\u001b[1;33m\u001b[0m\u001b[1;33m\u001b[0m\u001b[0m\n\u001b[0m\u001b[0;32m    312\u001b[0m \u001b[1;33m\u001b[0m\u001b[0m\n\u001b[0;32m    313\u001b[0m         \u001b[1;32mreturn\u001b[0m \u001b[0mwrapper\u001b[0m\u001b[1;33m\u001b[0m\u001b[1;33m\u001b[0m\u001b[0m\n",
            "\u001b[1;32m~\\anaconda3\\lib\\site-packages\\pandas\\io\\parsers\\readers.py\u001b[0m in \u001b[0;36mread_csv\u001b[1;34m(filepath_or_buffer, sep, delimiter, header, names, index_col, usecols, squeeze, prefix, mangle_dupe_cols, dtype, engine, converters, true_values, false_values, skipinitialspace, skiprows, skipfooter, nrows, na_values, keep_default_na, na_filter, verbose, skip_blank_lines, parse_dates, infer_datetime_format, keep_date_col, date_parser, dayfirst, cache_dates, iterator, chunksize, compression, thousands, decimal, lineterminator, quotechar, quoting, doublequote, escapechar, comment, encoding, encoding_errors, dialect, error_bad_lines, warn_bad_lines, on_bad_lines, delim_whitespace, low_memory, memory_map, float_precision, storage_options)\u001b[0m\n\u001b[0;32m    678\u001b[0m     \u001b[0mkwds\u001b[0m\u001b[1;33m.\u001b[0m\u001b[0mupdate\u001b[0m\u001b[1;33m(\u001b[0m\u001b[0mkwds_defaults\u001b[0m\u001b[1;33m)\u001b[0m\u001b[1;33m\u001b[0m\u001b[1;33m\u001b[0m\u001b[0m\n\u001b[0;32m    679\u001b[0m \u001b[1;33m\u001b[0m\u001b[0m\n\u001b[1;32m--> 680\u001b[1;33m     \u001b[1;32mreturn\u001b[0m \u001b[0m_read\u001b[0m\u001b[1;33m(\u001b[0m\u001b[0mfilepath_or_buffer\u001b[0m\u001b[1;33m,\u001b[0m \u001b[0mkwds\u001b[0m\u001b[1;33m)\u001b[0m\u001b[1;33m\u001b[0m\u001b[1;33m\u001b[0m\u001b[0m\n\u001b[0m\u001b[0;32m    681\u001b[0m \u001b[1;33m\u001b[0m\u001b[0m\n\u001b[0;32m    682\u001b[0m \u001b[1;33m\u001b[0m\u001b[0m\n",
            "\u001b[1;32m~\\anaconda3\\lib\\site-packages\\pandas\\io\\parsers\\readers.py\u001b[0m in \u001b[0;36m_read\u001b[1;34m(filepath_or_buffer, kwds)\u001b[0m\n\u001b[0;32m    579\u001b[0m \u001b[1;33m\u001b[0m\u001b[0m\n\u001b[0;32m    580\u001b[0m     \u001b[1;32mwith\u001b[0m \u001b[0mparser\u001b[0m\u001b[1;33m:\u001b[0m\u001b[1;33m\u001b[0m\u001b[1;33m\u001b[0m\u001b[0m\n\u001b[1;32m--> 581\u001b[1;33m         \u001b[1;32mreturn\u001b[0m \u001b[0mparser\u001b[0m\u001b[1;33m.\u001b[0m\u001b[0mread\u001b[0m\u001b[1;33m(\u001b[0m\u001b[0mnrows\u001b[0m\u001b[1;33m)\u001b[0m\u001b[1;33m\u001b[0m\u001b[1;33m\u001b[0m\u001b[0m\n\u001b[0m\u001b[0;32m    582\u001b[0m \u001b[1;33m\u001b[0m\u001b[0m\n\u001b[0;32m    583\u001b[0m \u001b[1;33m\u001b[0m\u001b[0m\n",
            "\u001b[1;32m~\\anaconda3\\lib\\site-packages\\pandas\\io\\parsers\\readers.py\u001b[0m in \u001b[0;36mread\u001b[1;34m(self, nrows)\u001b[0m\n\u001b[0;32m   1252\u001b[0m             \u001b[0mnrows\u001b[0m \u001b[1;33m=\u001b[0m \u001b[0mvalidate_integer\u001b[0m\u001b[1;33m(\u001b[0m\u001b[1;34m\"nrows\"\u001b[0m\u001b[1;33m,\u001b[0m \u001b[0mnrows\u001b[0m\u001b[1;33m)\u001b[0m\u001b[1;33m\u001b[0m\u001b[1;33m\u001b[0m\u001b[0m\n\u001b[0;32m   1253\u001b[0m             \u001b[1;32mtry\u001b[0m\u001b[1;33m:\u001b[0m\u001b[1;33m\u001b[0m\u001b[1;33m\u001b[0m\u001b[0m\n\u001b[1;32m-> 1254\u001b[1;33m                 \u001b[0mindex\u001b[0m\u001b[1;33m,\u001b[0m \u001b[0mcolumns\u001b[0m\u001b[1;33m,\u001b[0m \u001b[0mcol_dict\u001b[0m \u001b[1;33m=\u001b[0m \u001b[0mself\u001b[0m\u001b[1;33m.\u001b[0m\u001b[0m_engine\u001b[0m\u001b[1;33m.\u001b[0m\u001b[0mread\u001b[0m\u001b[1;33m(\u001b[0m\u001b[0mnrows\u001b[0m\u001b[1;33m)\u001b[0m\u001b[1;33m\u001b[0m\u001b[1;33m\u001b[0m\u001b[0m\n\u001b[0m\u001b[0;32m   1255\u001b[0m             \u001b[1;32mexcept\u001b[0m \u001b[0mException\u001b[0m\u001b[1;33m:\u001b[0m\u001b[1;33m\u001b[0m\u001b[1;33m\u001b[0m\u001b[0m\n\u001b[0;32m   1256\u001b[0m                 \u001b[0mself\u001b[0m\u001b[1;33m.\u001b[0m\u001b[0mclose\u001b[0m\u001b[1;33m(\u001b[0m\u001b[1;33m)\u001b[0m\u001b[1;33m\u001b[0m\u001b[1;33m\u001b[0m\u001b[0m\n",
            "\u001b[1;32m~\\anaconda3\\lib\\site-packages\\pandas\\io\\parsers\\c_parser_wrapper.py\u001b[0m in \u001b[0;36mread\u001b[1;34m(self, nrows)\u001b[0m\n\u001b[0;32m    223\u001b[0m         \u001b[1;32mtry\u001b[0m\u001b[1;33m:\u001b[0m\u001b[1;33m\u001b[0m\u001b[1;33m\u001b[0m\u001b[0m\n\u001b[0;32m    224\u001b[0m             \u001b[1;32mif\u001b[0m \u001b[0mself\u001b[0m\u001b[1;33m.\u001b[0m\u001b[0mlow_memory\u001b[0m\u001b[1;33m:\u001b[0m\u001b[1;33m\u001b[0m\u001b[1;33m\u001b[0m\u001b[0m\n\u001b[1;32m--> 225\u001b[1;33m                 \u001b[0mchunks\u001b[0m \u001b[1;33m=\u001b[0m \u001b[0mself\u001b[0m\u001b[1;33m.\u001b[0m\u001b[0m_reader\u001b[0m\u001b[1;33m.\u001b[0m\u001b[0mread_low_memory\u001b[0m\u001b[1;33m(\u001b[0m\u001b[0mnrows\u001b[0m\u001b[1;33m)\u001b[0m\u001b[1;33m\u001b[0m\u001b[1;33m\u001b[0m\u001b[0m\n\u001b[0m\u001b[0;32m    226\u001b[0m                 \u001b[1;31m# destructive to chunks\u001b[0m\u001b[1;33m\u001b[0m\u001b[1;33m\u001b[0m\u001b[0m\n\u001b[0;32m    227\u001b[0m                 \u001b[0mdata\u001b[0m \u001b[1;33m=\u001b[0m \u001b[0m_concatenate_chunks\u001b[0m\u001b[1;33m(\u001b[0m\u001b[0mchunks\u001b[0m\u001b[1;33m)\u001b[0m\u001b[1;33m\u001b[0m\u001b[1;33m\u001b[0m\u001b[0m\n",
            "\u001b[1;32m~\\anaconda3\\lib\\site-packages\\pandas\\_libs\\parsers.pyx\u001b[0m in \u001b[0;36mpandas._libs.parsers.TextReader.read_low_memory\u001b[1;34m()\u001b[0m\n",
            "\u001b[1;32m~\\anaconda3\\lib\\site-packages\\pandas\\_libs\\parsers.pyx\u001b[0m in \u001b[0;36mpandas._libs.parsers.TextReader._read_rows\u001b[1;34m()\u001b[0m\n",
            "\u001b[1;32m~\\anaconda3\\lib\\site-packages\\pandas\\_libs\\parsers.pyx\u001b[0m in \u001b[0;36mpandas._libs.parsers.TextReader._tokenize_rows\u001b[1;34m()\u001b[0m\n",
            "\u001b[1;32m~\\anaconda3\\lib\\site-packages\\pandas\\_libs\\parsers.pyx\u001b[0m in \u001b[0;36mpandas._libs.parsers.raise_parser_error\u001b[1;34m()\u001b[0m\n",
            "\u001b[1;31mParserError\u001b[0m: Error tokenizing data. C error: Expected 1 fields in line 28, saw 367\n"
          ]
        }
      ],
      "source": [
        "url = 'https://github.com/PosgradoMNA/actividades-del-projecto-cad_kbcm_jfl/blob/main/Reto/Datos_de_calidad_del_agua_de_sitios_de_monitoreo_de_aguas_superficiales_2020.csv'\n",
        "df = pd.read_csv(url, sep=',')"
      ]
    },
    {
      "cell_type": "code",
      "execution_count": null,
      "id": "1a67bb31",
      "metadata": {
        "id": "1a67bb31"
      },
      "outputs": [],
      "source": []
    }
  ],
  "metadata": {
    "kernelspec": {
      "display_name": "Python 3 (ipykernel)",
      "language": "python",
      "name": "python3"
    },
    "language_info": {
      "codemirror_mode": {
        "name": "ipython",
        "version": 3
      },
      "file_extension": ".py",
      "mimetype": "text/x-python",
      "name": "python",
      "nbconvert_exporter": "python",
      "pygments_lexer": "ipython3",
      "version": "3.9.12"
    },
    "colab": {
      "provenance": [],
      "include_colab_link": true
    }
  },
  "nbformat": 4,
  "nbformat_minor": 5
}
